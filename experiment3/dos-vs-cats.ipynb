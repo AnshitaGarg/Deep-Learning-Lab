import matplotlib.pyplot as plt
import tensorflow as tf
import pandas as pd
import numpy as np

import warnings
warnings.filterwarnings('ignore')

from tensorflow import keras
from keras import layers
from tensorflow.keras.models import Sequential
from tensorflow.keras.layers import Activation, Dropout, Flatten, Dense
from tensorflow.keras.layers import Conv2D, MaxPooling2D
from tensorflow.keras.utils import image_dataset_from_directory
from tensorflow.keras.preprocessing.image import ImageDataGenerator, load_img
from tensorflow.keras.preprocessing import image_dataset_from_directory

import os
import matplotlib.image as mpimg 
import kagglehub

""" # Download the latest version of the dataset from Kaggle """
path = kagglehub.dataset_download("anthonytherrien/dog-vs-cat")

print("Path to dataset files:", path)

""" # List the files in the dataset directory to confirm files have been downloaded """
print("Files in dataset directory:", os.listdir(path))

""" # Define the path to the 'animals' directory """
animals_path = os.path.join(path, "animals")

""" # List files inside the 'animals' directory to ensure correct dataset structure """
print("Files in 'animals' directory:", os.listdir(animals_path))

""" # Define the base directory for 'dog-vs-cat-classification' """
base_dir = os.path.join(path, "animals")

""" # Define paths for 'cat' and 'dog' directories """
cat_dir = os.path.join(base_dir, "cat")
dog_dir = os.path.join(base_dir, "dog")

""" # List filenames in 'cat' and 'dog' directories for inspection """
cat_names = os.listdir(cat_dir)
dog_names = os.listdir(dog_dir)

""" # Set up the figure for displaying images in a grid """
fig = plt.gcf()
fig.set_size_inches(16, 16)

""" # Define the index for selecting images """
pic_index = 210

""" # Get a list of image paths for cats and dogs """
cat_images = [
