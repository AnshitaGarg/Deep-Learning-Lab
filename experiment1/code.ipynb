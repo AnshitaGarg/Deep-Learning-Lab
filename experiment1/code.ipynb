"""Preprocessing"""
# Mount Google Drive to access the dataset
from google.colab import drive
drive.mount('/content/drive')

 """Import necessary libraries"""
import numpy as np
import matplotlib.pyplot
%matplotlib inline
import time

def convert(imgs, labels, outfile, n):
    """Convert MNIST dataset to CSV format."""
    imgf = open(imgs, "rb")
    labelf = open(labels, "rb")
    csvf = open(outfile, "w")

    imgf.read(16)  # Skip the header
    labelf.read(8)  # Skip the header
    images = []

    for i in range(n):
        image = [ord(labelf.read(1))]
        for j in range(28 * 28):
            image.append(ord(imgf.read(1)))
        images.append(image)

    for image in images:
        csvf.write(",".join(str(pix) for pix in image) + "\n")

    imgf.close()
    labelf.close()
    csvf.close()

 """File paths for MNIST dataset"""
mnist_train_x = "/content/drive/MyDrive/mnist/train-images.idx3-ubyte"
mnist_train_y = "/content/drive/MyDrive/mnist/train-labels.idx1-ubyte"
mnist_test_x = "/content/drive/MyDrive/mnist/t10k-images.idx3-ubyte"
mnist_test_y = "/content/drive/MyDrive/mnist/t10k-labels.idx1-ubyte"

"""Convert MNIST dataset to CSV"""
convert(mnist_train_x, mnist_train_y, "/content/drive/MyDrive/mnist/train.csv", 60000)
convert(mnist_test_x, mnist_test_y, "/content/drive/MyDrive/mnist/test.csv", 10000)

"""Load training and testing data"""
train_file = open("/content/drive/MyDrive/mnist/train.csv", 'r')
train_list = train_file.readlines()
train_file.close()

test_file = open("/content/drive/MyDrive/mnist/test.csv", 'r')
test_list = test_file.readlines()
test_file.close()

""" Visualize a sample from the dataset""""
all_values = train_list[100].split(',')
image_array = np.asfarray(all_values[1:]).reshape((28, 28))
matplotlib.pyplot.imshow(image_array, cmap='Greys', interpolation='None')

"""Normalize inputs"""
scaled_input_train = (np.asfarray(all_values[1:]) / 255.0 * 0.99) + 0.01
all_values = test_list[100].split(',')
scaled_input_test = (np.asfarray(all_values[1:]) / 255.0 * 0.99) + 0.01

"""Model Definition"""
class DNN:
    def __init__(self, sizes, epochs, lr):
        """Initialize the deep neural network."""
        self.sizes = sizes
        self.epochs = epochs
        self.lr = lr

        # Number of nodes in each layer
        input_layer = self.sizes[0]
        hidden_1 = self.sizes[1]
        hidden_2 = self.sizes[2]
        output_layer = self.sizes[3]

        # Initialize weights with small random values
        self.params = {
            'W1': np.random.randn(hidden_1, input_layer) * np.sqrt(1. / hidden_1),
            'W2': np.random.randn(hidden_2, hidden_1) * np.sqrt(1. / hidden_2),
            'W3': np.random.randn(output_layer, hidden_2) * np.sqrt(1. / output_layer)
        }

    def sigmoid(self, x, derivative=False):
        """Sigmoid activation function."""
        if derivative:
            return (np.exp(-x)) / ((np.exp(-x) + 1) ** 2)
        return 1 / (1 + np.exp(-x))

    def softmax(self, x, derivative=False):
        """Softmax activation function."""
        exps = np.exp(x - x.max())
        if derivative:
            return exps / np.sum(exps, axis=0) * (1 - exps / np.sum(exps, axis=0))
        return exps / np.sum(exps, axis=0)

    def forward_pass(self, x_train):
        """Perform a forward pass through the network."""
        params = self.params

        # Input layer activations
        params['A0'] = x_train

        # Hidden layer 1
        params['Z1'] = np.dot(params['W1'], params['A0'])
        params['A1'] = self.sigmoid(params['Z1'])

        # Hidden layer 2
        params['Z2'] = np.dot(params['W2'], params['A1'])
        params['A2'] = self.sigmoid(params['Z2'])

        # Output layer
        params['Z3'] = np.dot(params['W3'], params['A2'])
        params['A3'] = self.softmax(params['Z3'])

        return params['A3']

    def backward_pass(self, y_train, output):
        """Perform backpropagation to compute weight updates."""
        params = self.params
        change_w = {}

        # Calculate W3 update
        error = 2 * (output - y_train) / output.shape[0] * self.softmax(params['Z3'], derivative=True)
        change_w['W3'] = np.outer(error, params['A2'])

        # Calculate W2 update
        error = np.dot(params['W3'].T, error) * self.sigmoid(params['Z2'], derivative=True)
        change_w['W2'] = np.outer(error, params['A1'])

        # Calculate W1 update
        error = np.dot(params['W2'].T, error) * self.sigmoid(params['Z1'], derivative=True)
        change_w['W1'] = np.outer(error, params['A0'])

        return change_w

    def update_network_parameters(self, changes_to_w):
        """Update network weights using gradient descent."""
        for key, value in changes_to_w.items():
            self.params[key] -= self.lr * value

    def compute_accuracy(self, test_data, output_nodes):
        """Compute accuracy on the test dataset."""
        predictions = []

        for x in test_data:
            all_values = x.split(',')
            inputs = (np.asfarray(all_values[1:]) / 255.0 * 0.99) + 0.01
            targets = np.zeros(output_nodes) + 0.01
            targets[int(all_values[0])] = 0.99
            output = self.forward_pass(inputs)
            pred = np.argmax(output)
            predictions.append(pred == np.argmax(targets))

        return np.mean(predictions)

"""Training and Evaluation"""
    def train(self, train_list, test_list, output_nodes):
        """Train the model using the training dataset and evaluate on the test dataset."""
        start_time = time.time()
        for iteration in range(self.epochs):
            for x in train_list:
                all_values = x.split(',')
                inputs = (np.asfarray(all_values[1:]) / 255.0 * 0.99) + 0.01
                targets = np.zeros(output_nodes) + 0.01
                targets[int(all_values[0])] = 0.99
                output = self.forward_pass(inputs)
                changes_to_w = self.backward_pass(targets, output)
                self.update_network_parameters(changes_to_w)

            accuracy = self.compute_accuracy(test_list, output_nodes)
            print('Epoch: {0}, Time Spent: {1:.2f}s, Accuracy: {2:.2f}%'.format(
                iteration + 1, time.time() - start_time, accuracy * 100
            ))

"""Initialize the model"""
dnn = DNN(sizes=[784, 128, 64, 10], epochs=10, lr=0.001)
dnn.train(train_list, test_list, 10)
